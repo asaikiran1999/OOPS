{
  "nbformat": 4,
  "nbformat_minor": 0,
  "metadata": {
    "colab": {
      "name": "4.Inheritance.ipynb",
      "provenance": []
    },
    "kernelspec": {
      "name": "python3",
      "display_name": "Python 3"
    },
    "language_info": {
      "name": "python"
    }
  },
  "cells": [
    {
      "cell_type": "markdown",
      "source": [
        "#**INHERITANCE** in OOPS"
      ],
      "metadata": {
        "id": "Ohqcx0LDUnCx"
      }
    },
    {
      "cell_type": "markdown",
      "source": [
        "**There 4 types of inheritance in OOPS**\n",
        "\n",
        "**1.Single level inheritance**\n",
        "\n",
        "**2.multi level inheritance**\n",
        "\n",
        "**3.hierarical inheritance**\n",
        "\n",
        "**4.multiple inheritance**"
      ],
      "metadata": {
        "id": "gnT8SIbKUteF"
      }
    },
    {
      "cell_type": "markdown",
      "source": [
        "1.The working of **single level inheritance**"
      ],
      "metadata": {
        "id": "8B-G_0SxVd5u"
      }
    },
    {
      "cell_type": "code",
      "source": [
        "class A:\n",
        "  a = 'variable a'\n",
        "  def a_method(self):\n",
        "    print('class A')\n",
        "\n",
        "class B(A):\n",
        "  b = 'variable b'\n",
        "  def b_method(self):\n",
        "    print('class B')"
      ],
      "metadata": {
        "id": "5datuXe9oprD"
      },
      "execution_count": 2,
      "outputs": []
    },
    {
      "cell_type": "markdown",
      "source": [
        "accessing class A method by class B object due to inheritance"
      ],
      "metadata": {
        "id": "2dkEzvimWoQG"
      }
    },
    {
      "cell_type": "code",
      "source": [
        "object1 = B()\n",
        "object1.a_method()"
      ],
      "metadata": {
        "colab": {
          "base_uri": "https://localhost:8080/"
        },
        "id": "WoP0se1tXBNs",
        "outputId": "8d196498-07fc-4978-e5c8-49c41b9d9b7c"
      },
      "execution_count": 3,
      "outputs": [
        {
          "output_type": "stream",
          "name": "stdout",
          "text": [
            "class A\n"
          ]
        }
      ]
    },
    {
      "cell_type": "markdown",
      "source": [
        "2.The working of **multilevel inheritance**"
      ],
      "metadata": {
        "id": "6WuLRFIRXUem"
      }
    },
    {
      "cell_type": "code",
      "source": [
        "class A:\n",
        "  a = 'variable a'\n",
        "  def a_method(self):\n",
        "    print('class A')\n",
        "\n",
        "class B(A):\n",
        "  b = 'variable b'\n",
        "  def b_method(self):\n",
        "    print('class B')\n",
        "\n",
        "class C(B):\n",
        "  c = 'variable c'\n",
        "  def c_method(self):\n",
        "    print('class c')"
      ],
      "metadata": {
        "id": "-sHawyH3XMim"
      },
      "execution_count": 4,
      "outputs": []
    },
    {
      "cell_type": "markdown",
      "source": [
        "accessing of class A method by class C object due to **multi level inheritance**"
      ],
      "metadata": {
        "id": "yW1pqi_SXp1W"
      }
    },
    {
      "cell_type": "code",
      "source": [
        "object1 = C()\n",
        "object1.a_method()"
      ],
      "metadata": {
        "colab": {
          "base_uri": "https://localhost:8080/"
        },
        "id": "r6NPNAVOX7ql",
        "outputId": "e14c1978-49e0-4466-aba9-9970ed50aadf"
      },
      "execution_count": 5,
      "outputs": [
        {
          "output_type": "stream",
          "name": "stdout",
          "text": [
            "class A\n"
          ]
        }
      ]
    },
    {
      "cell_type": "markdown",
      "source": [
        "3.The working of **hierarical inheritance**"
      ],
      "metadata": {
        "id": "EWGjM_3bYSse"
      }
    },
    {
      "cell_type": "code",
      "source": [
        "class A:\n",
        "  a = 'variable a'\n",
        "  def a_method(self):\n",
        "    print('class A')\n",
        "\n",
        "class B(A):\n",
        "  b = 'variable b'\n",
        "  def b_method(self):\n",
        "    print('class B')\n",
        "\n",
        "class C(A):\n",
        "  c = 'variable c'\n",
        "  def c_method(self):\n",
        "    print('class c')"
      ],
      "metadata": {
        "id": "_y5TzGSFYQt9"
      },
      "execution_count": null,
      "outputs": []
    },
    {
      "cell_type": "markdown",
      "source": [
        "accessing of class A method by class C object and class B object due to **hierarical inheritance**"
      ],
      "metadata": {
        "id": "oZse-mo7YqTQ"
      }
    },
    {
      "cell_type": "code",
      "source": [
        "object1 = B()\n",
        "object2 = C()\n",
        "object1.a_method()\n",
        "object2.a_method()"
      ],
      "metadata": {
        "colab": {
          "base_uri": "https://localhost:8080/"
        },
        "id": "ph1XaNSSY6m-",
        "outputId": "139711f6-72bb-47a5-9591-d39fadccdca8"
      },
      "execution_count": 6,
      "outputs": [
        {
          "output_type": "stream",
          "name": "stdout",
          "text": [
            "class A\n",
            "class A\n"
          ]
        }
      ]
    },
    {
      "cell_type": "markdown",
      "source": [
        "4.The working of **multiple inheritance**"
      ],
      "metadata": {
        "id": "2gvcLfVPZha7"
      }
    },
    {
      "cell_type": "code",
      "source": [
        "class A:\n",
        "  a = 'variable a'\n",
        "  def a_method(self):\n",
        "    print('class A')\n",
        "\n",
        "class B():\n",
        "  b = 'variable b'\n",
        "  def b_method(self):\n",
        "    print('class B')\n",
        "\n",
        "class C(A,B):\n",
        "  c = 'variable c'\n",
        "  def c_method(self):\n",
        "    print('class c')"
      ],
      "metadata": {
        "id": "YrArOBlwZeNE"
      },
      "execution_count": null,
      "outputs": []
    },
    {
      "cell_type": "markdown",
      "source": [
        "accessing of class A method and class B method by class C object due to **hierarical inheritance**"
      ],
      "metadata": {
        "id": "xhuYvLwvZ3ol"
      }
    },
    {
      "cell_type": "code",
      "source": [
        "object1 = C()\n",
        "object1.a_method()\n",
        "object1.b_method()"
      ],
      "metadata": {
        "colab": {
          "base_uri": "https://localhost:8080/"
        },
        "id": "BrqGVKcuaFnD",
        "outputId": "81141508-4391-4ab5-dabd-fa9a14e2d5ca"
      },
      "execution_count": 7,
      "outputs": [
        {
          "output_type": "stream",
          "name": "stdout",
          "text": [
            "class A\n",
            "class B\n"
          ]
        }
      ]
    },
    {
      "cell_type": "markdown",
      "source": [
        "5.Working of **super()** method in inherited class."
      ],
      "metadata": {
        "id": "Jy-rBOoWaTRO"
      }
    },
    {
      "cell_type": "code",
      "source": [
        "class A:\n",
        "  def __init__(self , a, b):\n",
        "    self.a = a\n",
        "    self.b = b\n",
        "  def a_method():\n",
        "    print('class a')\n",
        "\n",
        "class B(A):\n",
        "  def __init__(self,a,b,c,d):\n",
        "    super().__init__(a,b)\n",
        "    self.c = c\n",
        "    self.d = d\n",
        "  def b_method(self):\n",
        "    print(self.a,self.b,self.c,self.d)"
      ],
      "metadata": {
        "id": "mrC1vp38aRiX"
      },
      "execution_count": 16,
      "outputs": []
    },
    {
      "cell_type": "code",
      "source": [
        "object1 = B(1,2,3,4)\n",
        "object1.b_method()"
      ],
      "metadata": {
        "colab": {
          "base_uri": "https://localhost:8080/"
        },
        "id": "GbdG1mFibi-w",
        "outputId": "f4c38a69-c64e-4fef-ef2c-2131aea0dbf8"
      },
      "execution_count": 17,
      "outputs": [
        {
          "output_type": "stream",
          "name": "stdout",
          "text": [
            "1 2 3 4\n"
          ]
        }
      ]
    }
  ]
}