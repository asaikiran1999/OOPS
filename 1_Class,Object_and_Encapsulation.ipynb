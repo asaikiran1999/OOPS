{
  "nbformat": 4,
  "nbformat_minor": 0,
  "metadata": {
    "colab": {
      "name": "1.Class,Object_and_Encapsulation.ipynb",
      "provenance": []
    },
    "kernelspec": {
      "name": "python3",
      "display_name": "Python 3"
    },
    "language_info": {
      "name": "python"
    }
  },
  "cells": [
    {
      "cell_type": "markdown",
      "source": [
        "#**OOPS CONCEPTS**\n",
        "#1.Class , Objects and Encapsulation"
      ],
      "metadata": {
        "id": "1K_f69CazJvG"
      }
    },
    {
      "cell_type": "markdown",
      "source": [
        "**Class :** class is a combination of properties and behaviours together which defines the identity of an object\n",
        "\n",
        "**Object :** Object is an instance of class\n",
        "\n",
        "**Encapsulation :** refers to the bundling of data, along with the methods that operate on that data, into a single unit. \n",
        "\n"
      ],
      "metadata": {
        "id": "94kz1Mxb0AMI"
      }
    },
    {
      "cell_type": "markdown",
      "source": [
        "**1.Creating a empty class**"
      ],
      "metadata": {
        "id": "luUKLkMwzXio"
      }
    },
    {
      "cell_type": "code",
      "execution_count": 1,
      "metadata": {
        "id": "sa1Poci9y8HH"
      },
      "outputs": [],
      "source": [
        "class library:\n",
        "  pass"
      ]
    },
    {
      "cell_type": "markdown",
      "source": [
        "**2.Creating class with Statements**"
      ],
      "metadata": {
        "id": "sExaAV-U1HFp"
      }
    },
    {
      "cell_type": "code",
      "source": [
        "class library:\n",
        "  ''' comments on code '''\n",
        "  print(\"inside library\")"
      ],
      "metadata": {
        "colab": {
          "base_uri": "https://localhost:8080/"
        },
        "id": "YdZdawL3z8oT",
        "outputId": "45bd78b5-fb83-4b63-efd5-197db378faf8"
      },
      "execution_count": 3,
      "outputs": [
        {
          "output_type": "stream",
          "name": "stdout",
          "text": [
            "inside library\n"
          ]
        }
      ]
    },
    {
      "cell_type": "code",
      "source": [
        "library.__doc__"
      ],
      "metadata": {
        "colab": {
          "base_uri": "https://localhost:8080/",
          "height": 35
        },
        "id": "nPOTmm1Z1q0u",
        "outputId": "88be502f-5e7a-479e-919b-f196a40f4310"
      },
      "execution_count": 6,
      "outputs": [
        {
          "output_type": "execute_result",
          "data": {
            "text/plain": [
              "' comments on code '"
            ],
            "application/vnd.google.colaboratory.intrinsic+json": {
              "type": "string"
            }
          },
          "metadata": {},
          "execution_count": 6
        }
      ]
    },
    {
      "cell_type": "markdown",
      "source": [
        "**3.Encapsulation - combining variables and methods**"
      ],
      "metadata": {
        "id": "UWjG_zyT2JaJ"
      }
    },
    {
      "cell_type": "code",
      "source": [
        "class library:\n",
        "  library_name = \"Quick learn\"\n",
        "  def borrowing(self):\n",
        "    print('borrowing book')\n",
        "  def submiting(self):\n",
        "    print('submiting book')\n"
      ],
      "metadata": {
        "id": "nWowF4_Z1VTS"
      },
      "execution_count": 7,
      "outputs": []
    },
    {
      "cell_type": "markdown",
      "source": [
        "creating an **object** for class library"
      ],
      "metadata": {
        "id": "zIOWuDER3soL"
      }
    },
    {
      "cell_type": "code",
      "source": [
        "object1 = library()"
      ],
      "metadata": {
        "id": "gxrWmuvW3q3d"
      },
      "execution_count": 11,
      "outputs": []
    },
    {
      "cell_type": "markdown",
      "source": [
        "calling the **class variable** using **object1** instance."
      ],
      "metadata": {
        "id": "0yq9Grdb-_M5"
      }
    },
    {
      "cell_type": "code",
      "source": [
        "object1.library_name"
      ],
      "metadata": {
        "colab": {
          "base_uri": "https://localhost:8080/",
          "height": 35
        },
        "id": "u1yp4vnY_O05",
        "outputId": "f6584c2b-d9e2-4cc4-c9ec-09bae6c1960a"
      },
      "execution_count": 12,
      "outputs": [
        {
          "output_type": "execute_result",
          "data": {
            "text/plain": [
              "'Quick learn'"
            ],
            "application/vnd.google.colaboratory.intrinsic+json": {
              "type": "string"
            }
          },
          "metadata": {},
          "execution_count": 12
        }
      ]
    },
    {
      "cell_type": "markdown",
      "source": [
        "calling the **class variable** using **class** itself."
      ],
      "metadata": {
        "id": "lXWImKDx_mTp"
      }
    },
    {
      "cell_type": "code",
      "source": [
        "library.library_name"
      ],
      "metadata": {
        "colab": {
          "base_uri": "https://localhost:8080/",
          "height": 35
        },
        "id": "X1rITupq_Xkb",
        "outputId": "e52437ce-2bcc-4e42-c24b-5e0f3c6314f3"
      },
      "execution_count": 13,
      "outputs": [
        {
          "output_type": "execute_result",
          "data": {
            "text/plain": [
              "'Quick learn'"
            ],
            "application/vnd.google.colaboratory.intrinsic+json": {
              "type": "string"
            }
          },
          "metadata": {},
          "execution_count": 13
        }
      ]
    },
    {
      "cell_type": "markdown",
      "source": [
        "calling the **methods** using **object1** instance"
      ],
      "metadata": {
        "id": "8X0GZPJG_7LC"
      }
    },
    {
      "cell_type": "code",
      "source": [
        "object1.borrowing()\n",
        "object1.submiting()"
      ],
      "metadata": {
        "colab": {
          "base_uri": "https://localhost:8080/"
        },
        "id": "jklEAxhF_5w5",
        "outputId": "8cb0c752-a987-463b-9291-e4f20b889e53"
      },
      "execution_count": 14,
      "outputs": [
        {
          "output_type": "stream",
          "name": "stdout",
          "text": [
            "borrowing book\n",
            "submiting book\n"
          ]
        }
      ]
    },
    {
      "cell_type": "markdown",
      "source": [
        "calling the **methods** using **class** itself."
      ],
      "metadata": {
        "id": "uZURhdO6AcQr"
      }
    },
    {
      "cell_type": "code",
      "source": [
        "library.borrowing()\n",
        "library.submiting()"
      ],
      "metadata": {
        "colab": {
          "base_uri": "https://localhost:8080/",
          "height": 183
        },
        "id": "MiEoQcyJAYzS",
        "outputId": "6000ce2b-cc21-4de4-a254-513e49ee8f4d"
      },
      "execution_count": 15,
      "outputs": [
        {
          "output_type": "error",
          "ename": "TypeError",
          "evalue": "ignored",
          "traceback": [
            "\u001b[0;31m---------------------------------------------------------------------------\u001b[0m",
            "\u001b[0;31mTypeError\u001b[0m                                 Traceback (most recent call last)",
            "\u001b[0;32m<ipython-input-15-464ac75f76d1>\u001b[0m in \u001b[0;36m<module>\u001b[0;34m()\u001b[0m\n\u001b[0;32m----> 1\u001b[0;31m \u001b[0mlibrary\u001b[0m\u001b[0;34m.\u001b[0m\u001b[0mborrowing\u001b[0m\u001b[0;34m(\u001b[0m\u001b[0;34m)\u001b[0m\u001b[0;34m\u001b[0m\u001b[0;34m\u001b[0m\u001b[0m\n\u001b[0m\u001b[1;32m      2\u001b[0m \u001b[0mlibrary\u001b[0m\u001b[0;34m.\u001b[0m\u001b[0msubmiting\u001b[0m\u001b[0;34m(\u001b[0m\u001b[0;34m)\u001b[0m\u001b[0;34m\u001b[0m\u001b[0;34m\u001b[0m\u001b[0m\n",
            "\u001b[0;31mTypeError\u001b[0m: borrowing() missing 1 required positional argument: 'self'"
          ]
        }
      ]
    },
    {
      "cell_type": "markdown",
      "source": [
        "**refference:** methods calling with class name is not possible since self requires object reference."
      ],
      "metadata": {
        "id": "FcrTZ4bcA2ma"
      }
    }
  ]
}