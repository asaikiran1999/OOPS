{
  "nbformat": 4,
  "nbformat_minor": 0,
  "metadata": {
    "colab": {
      "name": "Oops_methods.ipynb",
      "provenance": []
    },
    "kernelspec": {
      "name": "python3",
      "display_name": "Python 3"
    },
    "language_info": {
      "name": "python"
    }
  },
  "cells": [
    {
      "cell_type": "markdown",
      "source": [
        "#**OOPS METHODS**\n",
        "\n",
        "**There are three types of OOPS methods**\n",
        "\n",
        "**1.Instance method**\n",
        "\n",
        "**2.Class method**\n",
        "\n",
        "**3.Static method**"
      ],
      "metadata": {
        "id": "0nnMXjfC-fQb"
      }
    },
    {
      "cell_type": "markdown",
      "source": [
        "**1.Instance method** in OOPS"
      ],
      "metadata": {
        "id": "pbkfwczn_BcX"
      }
    },
    {
      "cell_type": "code",
      "execution_count": 3,
      "metadata": {
        "id": "AsjsDMak97om"
      },
      "outputs": [],
      "source": [
        "class library:\n",
        "  def __init__(self,book_id,book_name):\n",
        "    self.book_id = book_id\n",
        "    self.book_name=book_name\n",
        "  def display(self):\n",
        "    print(self.book_id,\"-\",self.book_name)\n"
      ]
    },
    {
      "cell_type": "markdown",
      "source": [
        "calling the **instance method**"
      ],
      "metadata": {
        "id": "KAbl8lN-_8DJ"
      }
    },
    {
      "cell_type": "code",
      "source": [
        "object1 = library(1,'harry potter')\n",
        "object2 = library(2,'baghavat geetha')\n",
        "object1.display()\n",
        "object2.display()"
      ],
      "metadata": {
        "colab": {
          "base_uri": "https://localhost:8080/"
        },
        "id": "cdGq_Jl5AArZ",
        "outputId": "edee12d9-6d24-43c9-87e6-84f7874f752a"
      },
      "execution_count": 4,
      "outputs": [
        {
          "output_type": "stream",
          "name": "stdout",
          "text": [
            "1 - harry potter\n",
            "2 - baghavat geetha\n"
          ]
        }
      ]
    },
    {
      "cell_type": "markdown",
      "source": [
        "**2.Class method** in OOPS"
      ],
      "metadata": {
        "id": "2bD0I87nAo2g"
      }
    },
    {
      "cell_type": "code",
      "source": [
        "class library:\n",
        "  library_name = 'QUICK LEARN python'\n",
        "  @classmethod\n",
        "  def display(cls):\n",
        "    print(cls.library_name)"
      ],
      "metadata": {
        "id": "zbSz4tVoAf6q"
      },
      "execution_count": 12,
      "outputs": []
    },
    {
      "cell_type": "markdown",
      "source": [
        "calling the **class method**"
      ],
      "metadata": {
        "id": "euRKRDxEBGho"
      }
    },
    {
      "cell_type": "code",
      "source": [
        "object1 = library()\n",
        "object1.display()"
      ],
      "metadata": {
        "colab": {
          "base_uri": "https://localhost:8080/"
        },
        "id": "67IOVKezBFHb",
        "outputId": "f8944be4-6155-486f-b1fa-a944371f4d6f"
      },
      "execution_count": 13,
      "outputs": [
        {
          "output_type": "stream",
          "name": "stdout",
          "text": [
            "QUICK LEARN python\n"
          ]
        }
      ]
    },
    {
      "cell_type": "markdown",
      "source": [
        "**3.Static method** in OOPS"
      ],
      "metadata": {
        "id": "8jIsbtM7C87Z"
      }
    },
    {
      "cell_type": "code",
      "source": [
        "class library:\n",
        "  @staticmethod\n",
        "  def add(a,b):\n",
        "    print(a+b)"
      ],
      "metadata": {
        "id": "fsYJCXUgCWLv"
      },
      "execution_count": 17,
      "outputs": []
    },
    {
      "cell_type": "markdown",
      "source": [
        "calling the **Static method**"
      ],
      "metadata": {
        "id": "wk_SX2BAEkuU"
      }
    },
    {
      "cell_type": "code",
      "source": [
        "object1 = library()\n",
        "object1.add(1,2)"
      ],
      "metadata": {
        "colab": {
          "base_uri": "https://localhost:8080/"
        },
        "id": "l57LptaTEjGw",
        "outputId": "7638ec3d-b58a-4074-8290-6a8c1e4065d1"
      },
      "execution_count": 18,
      "outputs": [
        {
          "output_type": "stream",
          "name": "stdout",
          "text": [
            "3\n"
          ]
        }
      ]
    }
  ]
}