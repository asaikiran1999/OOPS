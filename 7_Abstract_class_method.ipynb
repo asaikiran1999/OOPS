{
  "nbformat": 4,
  "nbformat_minor": 0,
  "metadata": {
    "colab": {
      "name": "7.Abstract_class_method.ipynb",
      "provenance": []
    },
    "kernelspec": {
      "name": "python3",
      "display_name": "Python 3"
    },
    "language_info": {
      "name": "python"
    }
  },
  "cells": [
    {
      "cell_type": "markdown",
      "source": [
        "#**ABSTRACT METHOD AND ABSTRACT CLASS**"
      ],
      "metadata": {
        "id": "wG7p4hkeu-gy"
      }
    },
    {
      "cell_type": "markdown",
      "source": [
        "**Abstract method :** An abstract method is a method that is declared without an implementation."
      ],
      "metadata": {
        "id": "P9M2wh-svUsd"
      }
    },
    {
      "cell_type": "markdown",
      "source": [
        "**Abstract class :** Any class which contains atleast one abstract method is called Abstract class."
      ],
      "metadata": {
        "id": "s8PZ0Ytlv93e"
      }
    },
    {
      "cell_type": "code",
      "source": [
        "from abc import ABC , abstractmethod\n",
        "\n",
        "class chatbot(ABC):\n",
        "  @abstractmethod\n",
        "  def chat(self):\n",
        "    pass\n",
        "    \n",
        "  def chatnot(self):\n",
        "    pass"
      ],
      "metadata": {
        "id": "3xn8lm7cu9rQ"
      },
      "execution_count": 11,
      "outputs": []
    },
    {
      "cell_type": "code",
      "execution_count": 12,
      "metadata": {
        "id": "oizyWMD3tR8X"
      },
      "outputs": [],
      "source": [
        "class bot1(chatbot):\n",
        "  def chat(self):\n",
        "    print('hello, this is bot1')\n",
        "\n",
        "  def end(self):\n",
        "    print(\"let's chat tommorow, good bye!\")"
      ]
    },
    {
      "cell_type": "code",
      "source": [
        "obj1 = bot1()\n",
        "obj1.chat()\n",
        "obj1.chatnot()\n",
        "obj1.end()"
      ],
      "metadata": {
        "colab": {
          "base_uri": "https://localhost:8080/"
        },
        "id": "IQ2PPIEL02Uf",
        "outputId": "a9f219c2-6835-4199-db94-d61a993f617e"
      },
      "execution_count": 13,
      "outputs": [
        {
          "output_type": "stream",
          "name": "stdout",
          "text": [
            "hello, this is bot1\n",
            "let's chat tommorow, good bye!\n"
          ]
        }
      ]
    },
    {
      "cell_type": "code",
      "source": [
        "class bot2(chatbot):\n",
        "  def chat(self):\n",
        "    print('hello, this is bot2')\n",
        "\n",
        "  def end(self):\n",
        "    print(\"let's chat tommorow, good bye!\")"
      ],
      "metadata": {
        "id": "6LmaqQI41wke"
      },
      "execution_count": 14,
      "outputs": []
    },
    {
      "cell_type": "code",
      "source": [
        "obj1 = bot2()\n",
        "\n",
        "obj1.chat()\n",
        "obj1.chatnot()\n",
        "obj1.end()"
      ],
      "metadata": {
        "colab": {
          "base_uri": "https://localhost:8080/"
        },
        "id": "fXgyFp1J10sc",
        "outputId": "42a1dc04-4626-4b75-af07-b9a8de8cafd4"
      },
      "execution_count": 15,
      "outputs": [
        {
          "output_type": "stream",
          "name": "stdout",
          "text": [
            "hello, this is bot2\n",
            "let's chat tommorow, good bye!\n"
          ]
        }
      ]
    },
    {
      "cell_type": "markdown",
      "source": [
        "**IMPORTANCE :** here the importance of abstract class is ,once the abstract class is inherited the child class must define the abstract method in it otherwise it shows error , this give the functionality that different abstract class inherited classes must use that abstract method while defining the inherited class."
      ],
      "metadata": {
        "id": "spuP7vIF1Iwd"
      }
    },
    {
      "cell_type": "markdown",
      "source": [
        "#**Exercise Link:** provided in the video description."
      ],
      "metadata": {
        "id": "npfaY3In3cxL"
      }
    },
    {
      "cell_type": "markdown",
      "source": [
        "#**THANK YOU**"
      ],
      "metadata": {
        "id": "jYRVQVrn3q2s"
      }
    }
  ]
}