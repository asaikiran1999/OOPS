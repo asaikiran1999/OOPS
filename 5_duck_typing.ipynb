{
  "nbformat": 4,
  "nbformat_minor": 0,
  "metadata": {
    "colab": {
      "name": "5.duck_typing.ipynb",
      "provenance": []
    },
    "kernelspec": {
      "name": "python3",
      "display_name": "Python 3"
    },
    "language_info": {
      "name": "python"
    }
  },
  "cells": [
    {
      "cell_type": "markdown",
      "source": [
        "#**POLYMORPHISM - Duck Typing**"
      ],
      "metadata": {
        "id": "5a4nVlaqPjoK"
      }
    },
    {
      "cell_type": "markdown",
      "source": [
        "**Polymorphism** is describes situations in which something occurs in several different forms."
      ],
      "metadata": {
        "id": "3xAUKqQ6P6qY"
      }
    },
    {
      "cell_type": "markdown",
      "source": [
        "1.Running the program without **Duck Typing**"
      ],
      "metadata": {
        "id": "DQsEhA6nQGcQ"
      }
    },
    {
      "cell_type": "code",
      "source": [
        "class a1:\n",
        "  def m(self):\n",
        "    print('class a1')\n",
        "class a2:\n",
        "  def m(self):\n",
        "    print('class a2')\n",
        "class a3:\n",
        "  def m(self):\n",
        "    print('class a3')\n",
        "class a4:\n",
        "  def m(self):\n",
        "    print('class a4')\n",
        "class a5:\n",
        "  def m(self):\n",
        "    print('class a5')"
      ],
      "metadata": {
        "id": "kdtxM7UrP5TX"
      },
      "execution_count": 5,
      "outputs": []
    },
    {
      "cell_type": "code",
      "source": [
        "object1 = a1()\n",
        "object2 = a2()\n",
        "object3 = a3()\n",
        "object4 = a4()\n",
        "object5 = a5()\n",
        "\n",
        "object1.m()\n",
        "object2.m()\n",
        "object3.m()\n",
        "object4.m()\n",
        "object5.m()\n"
      ],
      "metadata": {
        "colab": {
          "base_uri": "https://localhost:8080/"
        },
        "id": "7nAglGIGQ3kx",
        "outputId": "60a5a697-049e-4493-f012-4f8f5033c2d2"
      },
      "execution_count": 6,
      "outputs": [
        {
          "output_type": "stream",
          "name": "stdout",
          "text": [
            "class a1\n",
            "class a2\n",
            "class a3\n",
            "class a4\n",
            "class a5\n"
          ]
        }
      ]
    },
    {
      "cell_type": "markdown",
      "source": [
        "\n",
        "2.Running the program without **Duck Typing**"
      ],
      "metadata": {
        "id": "0DtCGP2-Rk_B"
      }
    },
    {
      "cell_type": "code",
      "source": [
        "class a1:\n",
        "  def m(self):\n",
        "    print('class a1')\n",
        "class a2:\n",
        "  def m(self):\n",
        "    print('class a2')\n",
        "class a3:\n",
        "  def m(self):\n",
        "    print('class a3')\n",
        "class a4:\n",
        "  def m(self):\n",
        "    print('class a4')\n",
        "class a5:\n",
        "  def m(self):\n",
        "    print('class a5')"
      ],
      "metadata": {
        "id": "zvPwc_jdROBf"
      },
      "execution_count": 3,
      "outputs": []
    },
    {
      "cell_type": "code",
      "source": [
        "jobs =[a1(),a2(),a3(),a4(),a5()]\n",
        "for i in jobs:\n",
        "  i.m()"
      ],
      "metadata": {
        "colab": {
          "base_uri": "https://localhost:8080/"
        },
        "id": "dA4eJwzWR715",
        "outputId": "aa8b256d-8c27-4c40-945f-82166442b2c3"
      },
      "execution_count": 7,
      "outputs": [
        {
          "output_type": "stream",
          "name": "stdout",
          "text": [
            "class a1\n",
            "class a2\n",
            "class a3\n",
            "class a4\n",
            "class a5\n"
          ]
        }
      ]
    },
    {
      "cell_type": "markdown",
      "source": [
        "3.**duck typing** with multiple repeated functions."
      ],
      "metadata": {
        "id": "FXZJMPeCTBjf"
      }
    },
    {
      "cell_type": "code",
      "source": [
        "class a1:\n",
        "  def m(self):\n",
        "    print('class a1')\n",
        "class a2:\n",
        "  def m(self):\n",
        "    print('class a2')\n",
        "class a3:\n",
        "  def m1(self):\n",
        "    print('class a3')\n",
        "class a4:\n",
        "  def m1(self):\n",
        "    print('class a4')\n",
        "class a5:\n",
        "  def m2(self):\n",
        "    print('class a5')"
      ],
      "metadata": {
        "id": "TPyt9SLrS8ee"
      },
      "execution_count": 8,
      "outputs": []
    },
    {
      "cell_type": "code",
      "source": [
        "jobs = [a1(),a2(),a3(),a4(),a5()]\n",
        "for i in jobs:\n",
        "  if hasattr(i,'m'):\n",
        "    i.m()\n",
        "  elif hasattr(i,'m1'):\n",
        "    i.m1()\n",
        "  elif hasattr(i,'m2'):\n",
        "    i.m2()"
      ],
      "metadata": {
        "colab": {
          "base_uri": "https://localhost:8080/"
        },
        "id": "U1ZgSUT9TprJ",
        "outputId": "1799c647-4f58-4cd5-fb79-29519f9a1acb"
      },
      "execution_count": 11,
      "outputs": [
        {
          "output_type": "stream",
          "name": "stdout",
          "text": [
            "class a1\n",
            "class a2\n",
            "class a3\n",
            "class a4\n",
            "class a5\n"
          ]
        }
      ]
    }
  ]
}