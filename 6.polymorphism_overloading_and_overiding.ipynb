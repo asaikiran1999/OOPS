{
  "nbformat": 4,
  "nbformat_minor": 0,
  "metadata": {
    "colab": {
      "name": "polymorphism_overloading_and_overiding.ipynb",
      "provenance": []
    },
    "kernelspec": {
      "name": "python3",
      "display_name": "Python 3"
    },
    "language_info": {
      "name": "python"
    }
  },
  "cells": [
    {
      "cell_type": "markdown",
      "source": [
        "#**POLYMORPHISM - Overloading and Overiding**"
      ],
      "metadata": {
        "id": "Mtdq9kSwcduq"
      }
    },
    {
      "cell_type": "markdown",
      "source": [
        "**1.Operator overloading**"
      ],
      "metadata": {
        "id": "_AThZuMBcv6J"
      }
    },
    {
      "cell_type": "code",
      "source": [
        "class data:\n",
        "  def __init__(self, price):\n",
        "    self.price = price\n",
        "  def __add__(self,other):\n",
        "    return self.price + other.price"
      ],
      "metadata": {
        "id": "Ht6T5NIucq6W"
      },
      "execution_count": 1,
      "outputs": []
    },
    {
      "cell_type": "code",
      "source": [
        "object1 = data(20)\n",
        "object2 = data(40)\n",
        "print(object1 + object2)"
      ],
      "metadata": {
        "colab": {
          "base_uri": "https://localhost:8080/"
        },
        "id": "1wbLWGcLdeGg",
        "outputId": "df1b0c1e-42ce-4f97-aadb-d1183503327d"
      },
      "execution_count": 2,
      "outputs": [
        {
          "output_type": "stream",
          "name": "stdout",
          "text": [
            "60\n"
          ]
        }
      ]
    },
    {
      "cell_type": "markdown",
      "source": [
        "**2.method overloading**"
      ],
      "metadata": {
        "id": "tgX5aoJbdv_a"
      }
    },
    {
      "cell_type": "code",
      "source": [
        "class data:\n",
        "  def fun(self,a=None,b=None,c=None):\n",
        "    if a==None and b==None and c==None:\n",
        "      print('this function is empty')    \n",
        "    elif a!=None and b==None and c==None:\n",
        "      print(a)\n",
        "    elif a!=None and b!=None and c==None:\n",
        "      print(a+b)\n",
        "    elif a!=None and b!=None and c!=None:\n",
        "      print(a*b*c)"
      ],
      "metadata": {
        "id": "rLrKdJW1dt7H"
      },
      "execution_count": 9,
      "outputs": []
    },
    {
      "cell_type": "code",
      "source": [
        "object1 =data()\n",
        "\n",
        "object1.fun()\n",
        "object1.fun(1)\n",
        "object1.fun(1,2)\n",
        "object1.fun(1,2,3)"
      ],
      "metadata": {
        "colab": {
          "base_uri": "https://localhost:8080/"
        },
        "id": "RwOi2uvtfX86",
        "outputId": "a39c0a20-8b89-49e3-a0e5-f360af1a502c"
      },
      "execution_count": 10,
      "outputs": [
        {
          "output_type": "stream",
          "name": "stdout",
          "text": [
            "this function is empty\n",
            "1\n",
            "3\n",
            "6\n"
          ]
        }
      ]
    },
    {
      "cell_type": "markdown",
      "source": [
        "#In **constructor overloading** the same method overloading is applied but constructor is used in place of method. "
      ],
      "metadata": {
        "id": "B9Amk_xUhGkl"
      }
    },
    {
      "cell_type": "markdown",
      "source": [
        "**3.method overiding**"
      ],
      "metadata": {
        "id": "8enktuD9hzuR"
      }
    },
    {
      "cell_type": "code",
      "source": [
        "class data:\n",
        "  def fun(self,a):\n",
        "    print(a+10)\n",
        "  def fun(self,a):\n",
        "    print(a+20)\n",
        "    "
      ],
      "metadata": {
        "id": "L8idlUJUgSIA"
      },
      "execution_count": 11,
      "outputs": []
    },
    {
      "cell_type": "code",
      "source": [
        "object1 = data()\n",
        "object1.fun(27)"
      ],
      "metadata": {
        "colab": {
          "base_uri": "https://localhost:8080/"
        },
        "id": "ve_COZKAip0Z",
        "outputId": "b8cc2269-fedd-4326-d5c1-6d27e5145a92"
      },
      "execution_count": 12,
      "outputs": [
        {
          "output_type": "stream",
          "name": "stdout",
          "text": [
            "47\n"
          ]
        }
      ]
    },
    {
      "cell_type": "markdown",
      "source": [
        "#In **method overiding** the same constructor overiding is applied but constructor is used in place of method. "
      ],
      "metadata": {
        "id": "AhDizmLki6hw"
      }
    }
  ]
}