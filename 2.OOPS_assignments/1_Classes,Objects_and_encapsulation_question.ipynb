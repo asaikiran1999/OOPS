{
  "nbformat": 4,
  "nbformat_minor": 0,
  "metadata": {
    "colab": {
      "name": "1.Classes,Objects and encapsulation_question.ipynb",
      "provenance": []
    },
    "kernelspec": {
      "name": "python3",
      "display_name": "Python 3"
    },
    "language_info": {
      "name": "python"
    }
  },
  "cells": [
    {
      "cell_type": "markdown",
      "source": [
        "**Create a car class with properties as colour, model, milage and methods driving and not driving which will print \"car is moving\" and \"car is not moving\" respectively.**\n",
        "\n",
        "**Access the methods and variables of the car class with an object**"
      ],
      "metadata": {
        "id": "wHWZhCwOXx4a"
      }
    }
  ]
}