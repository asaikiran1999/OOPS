{
  "nbformat": 4,
  "nbformat_minor": 0,
  "metadata": {
    "colab": {
      "name": "2.oops_variables_answers.ipynb",
      "provenance": []
    },
    "kernelspec": {
      "name": "python3",
      "display_name": "Python 3"
    },
    "language_info": {
      "name": "python"
    }
  },
  "cells": [
    {
      "cell_type": "markdown",
      "source": [
        "**Create a school class with static variable as school_name, and instance variable student_name,student_rollno, and local variables maths=0, science=0 inside a subject method which will print maths+science.**"
      ],
      "metadata": {
        "id": "2Jgd2S7qByWw"
      }
    },
    {
      "cell_type": "code",
      "execution_count": 1,
      "metadata": {
        "id": "4sKEPV6FBgG6"
      },
      "outputs": [],
      "source": [
        "class school:\n",
        "  school_name = \"QUICK LEARN python\"\n",
        "  \n",
        "  def __init__(self,student_name,student_rollno):\n",
        "    self.student_name = student_name\n",
        "    self.student_rollno = student_rollno\n",
        "  \n",
        "  def subject(self,maths=0,science=0):\n",
        "    print(maths+science)\n"
      ]
    },
    {
      "cell_type": "code",
      "source": [
        "object1 = school('Avasarala Sai Kiran',122)\n",
        "print(object1.school_name)\n",
        "print(object1.student_name)\n",
        "print(object1.student_rollno)\n",
        "object1.subject(1,3)"
      ],
      "metadata": {
        "colab": {
          "base_uri": "https://localhost:8080/"
        },
        "id": "OwgHOG5hEO5A",
        "outputId": "55edcf15-473e-4f21-8a18-d171d6e687da"
      },
      "execution_count": 3,
      "outputs": [
        {
          "output_type": "stream",
          "name": "stdout",
          "text": [
            "QUICK LEARN python\n",
            "Avasarala Sai Kiran\n",
            "122\n",
            "4\n"
          ]
        }
      ]
    },
    {
      "cell_type": "code",
      "source": [
        "object1 = school('Dinesh',130)\n",
        "print(object1.school_name)\n",
        "print(object1.student_name)\n",
        "print(object1.student_rollno)\n",
        "object1.subject(20,33)"
      ],
      "metadata": {
        "colab": {
          "base_uri": "https://localhost:8080/"
        },
        "id": "ecsUd1vwEwmF",
        "outputId": "21b62bbf-2f90-42f6-c4ee-b20ef42bab43"
      },
      "execution_count": 5,
      "outputs": [
        {
          "output_type": "stream",
          "name": "stdout",
          "text": [
            "QUICK LEARN python\n",
            "Dinesh\n",
            "130\n",
            "53\n"
          ]
        }
      ]
    }
  ]
}