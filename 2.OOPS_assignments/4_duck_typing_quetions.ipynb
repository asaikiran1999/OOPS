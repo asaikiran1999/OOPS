{
  "nbformat": 4,
  "nbformat_minor": 0,
  "metadata": {
    "colab": {
      "name": "4.duck typing quetions.ipynb",
      "provenance": []
    },
    "kernelspec": {
      "name": "python3",
      "display_name": "Python 3"
    },
    "language_info": {
      "name": "python"
    }
  },
  "cells": [
    {
      "cell_type": "markdown",
      "source": [
        "**1.Create a class A,B,C,D,E with display1 methods in class A and B ,with display2 methods in class C and D ,then display3 in E.Now access those method using ducktyping concept.** "
      ],
      "metadata": {
        "id": "qGw5ApcUEDhL"
      }
    },
    {
      "cell_type": "markdown",
      "source": [
        "#**[CLICK HERE](https://github.com/asaikiran1999/OOPS/blob/main/2.OOPS_assignments/4_duck_typing_answers.ipynb)** for solution"
      ],
      "metadata": {
        "id": "ORFSuW2eHl8Q"
      }
    }
  ]
}