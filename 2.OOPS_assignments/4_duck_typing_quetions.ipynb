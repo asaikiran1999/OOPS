{
  "nbformat": 4,
  "nbformat_minor": 0,
  "metadata": {
    "colab": {
      "name": "4.duck typing quetions.ipynb",
      "provenance": []
    },
    "kernelspec": {
      "name": "python3",
      "display_name": "Python 3"
    },
    "language_info": {
      "name": "python"
    }
  },
  "cells": [
    {
      "cell_type": "markdown",
      "source": [
        "**1.Create a class A,B,C,D,E with display1 methods in class A and B ,with display2 methods in class C and D ,then display3 in E.Now access those method using ducktyping concept.** "
      ],
      "metadata": {
        "id": "qGw5ApcUEDhL"
      }
    }
  ]
}