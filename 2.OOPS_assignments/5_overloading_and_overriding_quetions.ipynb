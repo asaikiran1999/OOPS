{
  "nbformat": 4,
  "nbformat_minor": 0,
  "metadata": {
    "colab": {
      "name": "5.overloading and overriding quetions.ipynb",
      "provenance": []
    },
    "kernelspec": {
      "name": "python3",
      "display_name": "Python 3"
    },
    "language_info": {
      "name": "python"
    }
  },
  "cells": [
    {
      "cell_type": "markdown",
      "source": [
        "**1.Create a class contains instance variable number and create magic method for operator '-' which defines the substraction of two objects by using thier instance variable.**"
      ],
      "metadata": {
        "id": "0B6PMGczafaH"
      }
    },
    {
      "cell_type": "markdown",
      "source": [
        "**2.Create a function which take one value to display it with a tag \"the number is \" and if more than one number  it should display the sum of those numbers with a tag \"the sum of the numbers is \"** "
      ],
      "metadata": {
        "id": "XWyFvggLbI6X"
      }
    },
    {
      "cell_type": "markdown",
      "source": [
        "#**[CLICK HERE](https://github.com/asaikiran1999/OOPS/blob/main/2.OOPS_assignments/5_overloading_and_overriding_answers.ipynb)** for Solutions"
      ],
      "metadata": {
        "id": "CRyZFdG-g3e8"
      }
    }
  ]
}