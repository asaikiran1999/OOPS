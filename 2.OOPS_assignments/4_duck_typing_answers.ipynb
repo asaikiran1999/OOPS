{
  "nbformat": 4,
  "nbformat_minor": 0,
  "metadata": {
    "colab": {
      "name": "4.duck typing answers.ipynb",
      "provenance": []
    },
    "kernelspec": {
      "name": "python3",
      "display_name": "Python 3"
    },
    "language_info": {
      "name": "python"
    }
  },
  "cells": [
    {
      "cell_type": "markdown",
      "source": [
        "**1.Create a class A,B,C,D,E with display1 methods in class A and B ,with display2 methods in class C and D ,then display3 in E.Now access those method using ducktyping concept.** "
      ],
      "metadata": {
        "id": "qGw5ApcUEDhL"
      }
    },
    {
      "cell_type": "code",
      "execution_count": 5,
      "metadata": {
        "id": "hKBry_nJD-lq"
      },
      "outputs": [],
      "source": [
        "class A:\n",
        "  def display1(self):\n",
        "    print('class A')\n",
        "class B:\n",
        "  def display1(self):\n",
        "    print('class B')\n",
        "class C:\n",
        "  def display2(self):\n",
        "    print('class C')\n",
        "class D:\n",
        "  def display2(self):\n",
        "    print('class D')\n",
        "class E:\n",
        "  def display3(self):\n",
        "    print('class E')"
      ]
    },
    {
      "cell_type": "code",
      "source": [
        "jobs = [A(),B(),C(),D(),E()]\n",
        "for i in jobs:\n",
        "  if hasattr(i,'display1'):\n",
        "    i.display1()\n",
        "  elif hasattr(i,'display2'):\n",
        "    i.display2()\n",
        "  elif hasattr(i,'display3'):\n",
        "    i.display3()"
      ],
      "metadata": {
        "colab": {
          "base_uri": "https://localhost:8080/"
        },
        "id": "qfYmIjLYFznf",
        "outputId": "5002de7b-420c-4dd1-cdd1-3862a56bfc1a"
      },
      "execution_count": 6,
      "outputs": [
        {
          "output_type": "stream",
          "name": "stdout",
          "text": [
            "class A\n",
            "class B\n",
            "class C\n",
            "class D\n",
            "class E\n"
          ]
        }
      ]
    }
  ]
}