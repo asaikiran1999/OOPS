{
  "nbformat": 4,
  "nbformat_minor": 0,
  "metadata": {
    "colab": {
      "name": "6.inheritance_answers.ipynb",
      "provenance": []
    },
    "kernelspec": {
      "name": "python3",
      "display_name": "Python 3"
    },
    "language_info": {
      "name": "python"
    }
  },
  "cells": [
    {
      "cell_type": "markdown",
      "source": [
        "**1.create a library class with instance method display which displays the name of the library.create a bookslist class inherits library and paper stamp class which dont inherit library and student class who inherit bookslist and paperstamp class.**\n",
        "\n",
        "**Now access the display with all class objects.**"
      ],
      "metadata": {
        "id": "tfmrql_rjNjg"
      }
    },
    {
      "cell_type": "code",
      "execution_count": 1,
      "metadata": {
        "id": "BqhCbswPjAC3"
      },
      "outputs": [],
      "source": [
        "class library:\n",
        "  def display(self):\n",
        "    print('QUICK LEARN python')\n",
        "\n",
        "class booklist(library):\n",
        "  pass\n",
        "class paperstamp:\n",
        "  pass\n",
        "class student(booklist,library):\n",
        "  pass"
      ]
    },
    {
      "cell_type": "code",
      "source": [
        "obj1 = library()\n",
        "obj2 = booklist()\n",
        "obj3 = paperstamp()\n",
        "obj4 = student()\n",
        "\n",
        "obj1.display()\n",
        "obj2.display()\n",
        "#print(obj3.display())  #paperstamp cant access display function\n",
        "obj4.display()"
      ],
      "metadata": {
        "colab": {
          "base_uri": "https://localhost:8080/"
        },
        "id": "e5jC1okzleX2",
        "outputId": "f1040830-10a0-428c-a0e2-86f5ad64f53c"
      },
      "execution_count": 4,
      "outputs": [
        {
          "output_type": "stream",
          "name": "stdout",
          "text": [
            "QUICK LEARN python\n",
            "QUICK LEARN python\n",
            "QUICK LEARN python\n"
          ]
        }
      ]
    }
  ]
}