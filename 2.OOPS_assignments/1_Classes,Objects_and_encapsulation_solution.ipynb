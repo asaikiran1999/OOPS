{
  "nbformat": 4,
  "nbformat_minor": 0,
  "metadata": {
    "colab": {
      "name": "1.Classes,Objects and encapsulation_solution.ipynb",
      "provenance": []
    },
    "kernelspec": {
      "name": "python3",
      "display_name": "Python 3"
    },
    "language_info": {
      "name": "python"
    }
  },
  "cells": [
    {
      "cell_type": "markdown",
      "source": [
        "**Create a car class with properties as colour, model, milage and methods driving and not driving which will print \"car is moving\" and \"car is not moving\" respectively.**\n",
        "\n",
        "**Access the methods and variables of the car class with an object**"
      ],
      "metadata": {
        "id": "wHWZhCwOXx4a"
      }
    },
    {
      "cell_type": "code",
      "execution_count": 5,
      "metadata": {
        "id": "GVHnaq8tXbDX"
      },
      "outputs": [],
      "source": [
        "class Car:\n",
        "  car_colour = 'red'\n",
        "  car_model = 'nano'\n",
        "  car_milage = 100\n",
        "  def driving(self):\n",
        "    print('car is moving')\n",
        "  def not_driving(self):\n",
        "    print(\"car is not moving\")"
      ]
    },
    {
      "cell_type": "code",
      "source": [
        "object1 = Car()\n",
        "print(object1.car_colour)\n",
        "print(object1.car_model)\n",
        "print(object1.car_milage)\n",
        "object1.driving()\n",
        "object1.not_driving()\n"
      ],
      "metadata": {
        "colab": {
          "base_uri": "https://localhost:8080/"
        },
        "id": "1ymcvR88aRZK",
        "outputId": "af0a2cb0-281f-490a-ace6-4735a91bb401"
      },
      "execution_count": 6,
      "outputs": [
        {
          "output_type": "stream",
          "name": "stdout",
          "text": [
            "red\n",
            "nano\n",
            "100\n",
            "car is moving\n",
            "car is not moving\n"
          ]
        }
      ]
    }
  ]
}