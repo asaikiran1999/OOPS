{
  "nbformat": 4,
  "nbformat_minor": 0,
  "metadata": {
    "colab": {
      "name": "2.oops_variables_questions.ipynb",
      "provenance": []
    },
    "kernelspec": {
      "name": "python3",
      "display_name": "Python 3"
    },
    "language_info": {
      "name": "python"
    }
  },
  "cells": [
    {
      "cell_type": "markdown",
      "source": [
        "**Create a school class with static variable as school_name, and instance variable student_name,student_rollno, and local variables maths=0, science=0 inside a subject method which will print maths+science.**"
      ],
      "metadata": {
        "id": "2Jgd2S7qByWw"
      }
    },
    {
      "cell_type": "markdown",
      "source": [
        "#**[CLICK HERE](https://github.com/asaikiran1999/OOPS/blob/main/2.OOPS_assignments/2_oops_variables_answers.ipynb)** for Solution"
      ],
      "metadata": {
        "id": "pcYo3UTVFoxe"
      }
    }
  ]
}