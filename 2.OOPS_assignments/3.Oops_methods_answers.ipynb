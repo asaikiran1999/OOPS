{
  "nbformat": 4,
  "nbformat_minor": 0,
  "metadata": {
    "colab": {
      "name": "Oops_methods_answers.ipynb",
      "provenance": []
    },
    "kernelspec": {
      "name": "python3",
      "display_name": "Python 3"
    },
    "language_info": {
      "name": "python"
    }
  },
  "cells": [
    {
      "cell_type": "markdown",
      "source": [
        "**1.Clear BookStore class with instance variables as (*items) and display1 method which displays items.**\n",
        "\n",
        "**2.Create class variable for bookstore_name and display2 class method to display bookstore_name.** \n",
        "\n",
        "**3.Create a static method to enter customer names as srguments and displays total number of customers.**"
      ],
      "metadata": {
        "id": "1FhwvS_SQqaO"
      }
    },
    {
      "cell_type": "code",
      "execution_count": 6,
      "metadata": {
        "id": "l4g_l1zMIKUz"
      },
      "outputs": [],
      "source": [
        "class BookStore:\n",
        "  def __init__(self,*items):\n",
        "    self.items = items\n",
        "  \n",
        "  def display1(self):\n",
        "    for i in self.items:\n",
        "      print(i)\n",
        "    print('\\n')\n",
        "  \n",
        "  bookstore_name = 'QUICK LEARN'\n",
        "  \n",
        "  @classmethod\n",
        "  def display2(cls):\n",
        "    print(cls.bookstore_name)\n",
        "\n",
        "  @staticmethod\n",
        "  def no_of_custormers(*customer_names):\n",
        "    print(\"there are \",len(customer_names),\" customers\")"
      ]
    },
    {
      "cell_type": "code",
      "source": [
        "object1 = BookStore('pen','pencil','notebook','scale')\n",
        "\n",
        "object1.display1()\n",
        "object1.display2()\n",
        "object1.no_of_custormers('sai','kiran','avasarala')\n",
        "\n"
      ],
      "metadata": {
        "colab": {
          "base_uri": "https://localhost:8080/"
        },
        "id": "RcRJSvpLT4aX",
        "outputId": "30643e11-4626-4626-dce7-1c02c7441cd3"
      },
      "execution_count": 7,
      "outputs": [
        {
          "output_type": "stream",
          "name": "stdout",
          "text": [
            "pen\n",
            "pencil\n",
            "notebook\n",
            "scale\n",
            "\n",
            "\n",
            "QUICK LEARN\n",
            "there are  3  customers\n"
          ]
        }
      ]
    },
    {
      "cell_type": "code",
      "source": [
        ""
      ],
      "metadata": {
        "id": "99S8RdtsWYhS"
      },
      "execution_count": null,
      "outputs": []
    }
  ]
}