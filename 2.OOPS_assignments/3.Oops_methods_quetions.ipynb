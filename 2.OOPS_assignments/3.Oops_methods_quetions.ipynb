{
  "nbformat": 4,
  "nbformat_minor": 0,
  "metadata": {
    "colab": {
      "name": "Oops_methods_quetions.ipynb",
      "provenance": []
    },
    "kernelspec": {
      "name": "python3",
      "display_name": "Python 3"
    },
    "language_info": {
      "name": "python"
    }
  },
  "cells": [
    {
      "cell_type": "markdown",
      "source": [
        "**1.Clear BookStore class with instance variables as (*items) and display1 method which displays items.**\n",
        "\n",
        "**2.Create class variable for bookstore_name and display2 class method to display bookstore_name.** \n",
        "\n",
        "**3.Create a static method to enter customer names as srguments and displays total number of customers.**"
      ],
      "metadata": {
        "id": "1FhwvS_SQqaO"
      }
    },
    {
      "cell_type": "markdown",
      "source": [
        "#**[CLICK HERE](https://github.com/asaikiran1999/OOPS/blob/main/2.OOPS_assignments/3.Oops_methods_answers.ipynb)** for solution"
      ],
      "metadata": {
        "id": "H_18lQbfXDSZ"
      }
    }
  ]
}