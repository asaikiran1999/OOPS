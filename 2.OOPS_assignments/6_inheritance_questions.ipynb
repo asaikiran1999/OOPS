{
  "nbformat": 4,
  "nbformat_minor": 0,
  "metadata": {
    "colab": {
      "name": "6.inheritance_questions.ipynb",
      "provenance": []
    },
    "kernelspec": {
      "name": "python3",
      "display_name": "Python 3"
    },
    "language_info": {
      "name": "python"
    }
  },
  "cells": [
    {
      "cell_type": "markdown",
      "source": [
        "**1.create a library class with instance method display which displays the name of the library.create a bookslist class inherits library and paper stamp class which dont inherit library and student class who inherit bookslist and paperstamp class.**\n",
        "\n",
        "**Now access the display with all class objects.**"
      ],
      "metadata": {
        "id": "tfmrql_rjNjg"
      }
    },
    {
      "cell_type": "markdown",
      "source": [
        "#**[CLICK HERE](https://github.com/asaikiran1999/OOPS/blob/main/2.OOPS_assignments/6_inheritance_answers.ipynb)** for solutions"
      ],
      "metadata": {
        "id": "1lI3FttPmu1Z"
      }
    }
  ]
}