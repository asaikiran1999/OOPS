{
  "nbformat": 4,
  "nbformat_minor": 0,
  "metadata": {
    "colab": {
      "name": "5.overloading and overriding answers.ipynb",
      "provenance": []
    },
    "kernelspec": {
      "name": "python3",
      "display_name": "Python 3"
    },
    "language_info": {
      "name": "python"
    }
  },
  "cells": [
    {
      "cell_type": "markdown",
      "source": [
        "**1.Create a class contains instance variable number and create magic method for operator '-' which defines the substraction of two objects by using thier instance variable.**"
      ],
      "metadata": {
        "id": "0B6PMGczafaH"
      }
    },
    {
      "cell_type": "code",
      "source": [
        "class A:\n",
        "  def __init__(self,number):\n",
        "    self.number = number\n",
        "  def __sub__(self,other):\n",
        "    return (self.number + other.number)"
      ],
      "metadata": {
        "id": "kBigr6gSbRI3"
      },
      "execution_count": 1,
      "outputs": []
    },
    {
      "cell_type": "code",
      "source": [
        "object1 = A(10)\n",
        "object2 = A(5)\n",
        "object1 - object2"
      ],
      "metadata": {
        "colab": {
          "base_uri": "https://localhost:8080/"
        },
        "id": "91ucChR7b77L",
        "outputId": "51d9a016-5e4c-4f87-88df-2f25348620de"
      },
      "execution_count": 3,
      "outputs": [
        {
          "output_type": "stream",
          "name": "stdout",
          "text": [
            "15\n"
          ]
        }
      ]
    },
    {
      "cell_type": "markdown",
      "source": [
        "**2.Create a function which take one value to display it with a tag \"the number is \" and if more than one number  it should display the sum of those numbers with a tag \"the sum of the numbers is \"** "
      ],
      "metadata": {
        "id": "XWyFvggLbI6X"
      }
    },
    {
      "cell_type": "code",
      "execution_count": 5,
      "metadata": {
        "id": "ejdr2MC2ad0f"
      },
      "outputs": [],
      "source": [
        "def add(a=None,*b):\n",
        "  if a!=None and len(b)==0:\n",
        "    print(\"the number is \",a)\n",
        "  else:\n",
        "    print(\"the sum of the number is \",a+sum(b))"
      ]
    },
    {
      "cell_type": "code",
      "source": [
        "add(1)\n",
        "add(2,34)\n",
        "add(1,2,3,4,5,56,6,6,6)"
      ],
      "metadata": {
        "colab": {
          "base_uri": "https://localhost:8080/"
        },
        "id": "Fdu1EcDVfn34",
        "outputId": "de732ef8-680a-4be8-e979-9e9ce6727bfb"
      },
      "execution_count": 7,
      "outputs": [
        {
          "output_type": "stream",
          "name": "stdout",
          "text": [
            "the number is  1\n",
            "the sum of the number is  36\n",
            "the sum of the number is  89\n"
          ]
        }
      ]
    }
  ]
}