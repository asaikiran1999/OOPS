{
  "nbformat": 4,
  "nbformat_minor": 0,
  "metadata": {
    "colab": {
      "name": "7.abstract_class_questions.ipynb",
      "provenance": []
    },
    "kernelspec": {
      "name": "python3",
      "display_name": "Python 3"
    },
    "language_info": {
      "name": "python"
    }
  },
  "cells": [
    {
      "cell_type": "markdown",
      "source": [
        "**Create an abstract class 'bus' with an abstract method traveller_name and then create a traveller class which inherits bus.**\n",
        "\n",
        "**1.Now define the traveller_name method in it.**\n",
        "\n",
        "**2.Now create a traveller class object and access the traveller_name method**"
      ],
      "metadata": {
        "id": "lE698ATt9Ae-"
      }
    },
    {
      "cell_type": "markdown",
      "source": [
        "#**[CLICK HERE](https://github.com/asaikiran1999/OOPS/blob/main/2.OOPS_assignments/7_abstract_class_answers.ipynb)** for solution "
      ],
      "metadata": {
        "id": "NenQB95HBeb-"
      }
    }
  ]
}