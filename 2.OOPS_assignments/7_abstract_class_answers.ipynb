{
  "nbformat": 4,
  "nbformat_minor": 0,
  "metadata": {
    "colab": {
      "name": "7.abstract_class_answers.ipynb",
      "provenance": []
    },
    "kernelspec": {
      "name": "python3",
      "display_name": "Python 3"
    },
    "language_info": {
      "name": "python"
    }
  },
  "cells": [
    {
      "cell_type": "markdown",
      "source": [
        "**Create an abstract class 'bus' with an abstract method traveller_name and then create a traveller class which inherits bus.**\n",
        "\n",
        "**1.Now define the traveller_name method in it.**\n",
        "\n",
        "**2.Now create a traveller class object and access the traveller_name method**"
      ],
      "metadata": {
        "id": "lE698ATt9Ae-"
      }
    },
    {
      "cell_type": "code",
      "execution_count": 2,
      "metadata": {
        "id": "sVS_vRyU67z8"
      },
      "outputs": [],
      "source": [
        "from abc import ABC , abstractmethod\n",
        "\n",
        "class bus(ABC):\n",
        "  @abstractmethod\n",
        "  def traveller_name():\n",
        "    pass\n"
      ]
    },
    {
      "cell_type": "code",
      "source": [
        "class traveller(bus):\n",
        "  def traveller_name(self):\n",
        "    print(\"I'm the first traveller\")"
      ],
      "metadata": {
        "id": "TUgxmISw-Bln"
      },
      "execution_count": 3,
      "outputs": []
    },
    {
      "cell_type": "code",
      "source": [
        "obj1 = traveller()\n",
        "\n",
        "obj1.traveller_name()"
      ],
      "metadata": {
        "colab": {
          "base_uri": "https://localhost:8080/"
        },
        "id": "osOa_3x9AE6k",
        "outputId": "afb38123-b452-4d41-c85d-232c218a0bb4"
      },
      "execution_count": 4,
      "outputs": [
        {
          "output_type": "stream",
          "name": "stdout",
          "text": [
            "I'm the first traveller\n"
          ]
        }
      ]
    }
  ]
}