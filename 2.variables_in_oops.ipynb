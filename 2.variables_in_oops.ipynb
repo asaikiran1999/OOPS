{
  "nbformat": 4,
  "nbformat_minor": 0,
  "metadata": {
    "colab": {
      "name": "variables_in_oops.ipynb",
      "provenance": []
    },
    "kernelspec": {
      "name": "python3",
      "display_name": "Python 3"
    },
    "language_info": {
      "name": "python"
    }
  },
  "cells": [
    {
      "cell_type": "markdown",
      "source": [
        "#**VARIABLES IN OOPS**"
      ],
      "metadata": {
        "id": "7hTD6hMvKuQN"
      }
    },
    {
      "cell_type": "markdown",
      "source": [
        "**1.constructor without additional variables**"
      ],
      "metadata": {
        "id": "WBJ3kcuGK1uY"
      }
    },
    {
      "cell_type": "code",
      "execution_count": 13,
      "metadata": {
        "id": "2D-onscLIYoL"
      },
      "outputs": [],
      "source": [
        "class library:\n",
        "  def __init__(self):\n",
        "    print('hello students')"
      ]
    },
    {
      "cell_type": "markdown",
      "source": [
        "calling **constructor** is automatically done when we create a object. "
      ],
      "metadata": {
        "id": "hHqyDXsxLoBq"
      }
    },
    {
      "cell_type": "code",
      "source": [
        "object1 = library()"
      ],
      "metadata": {
        "colab": {
          "base_uri": "https://localhost:8080/"
        },
        "id": "EeW5staOL9wB",
        "outputId": "1ba1f6d8-f337-48b4-dc2f-458fed9aa3ee"
      },
      "execution_count": 14,
      "outputs": [
        {
          "output_type": "stream",
          "name": "stdout",
          "text": [
            "hello students\n"
          ]
        }
      ]
    },
    {
      "cell_type": "markdown",
      "source": [
        "**2.Types of variables in OOPS:**\n",
        "\n",
        "**1.Instance variable [Object level]**\n",
        "\n",
        "**2.Static Variable [Class Level]**\n",
        "\n",
        "**3.Local Variable [method level]**"
      ],
      "metadata": {
        "id": "st6T1vi6MVv8"
      }
    },
    {
      "cell_type": "code",
      "source": [
        "class library:\n",
        "\n",
        "  library_name=\"QUICK LEARN\"            #library_name is static variable\n",
        "\n",
        "  def __init__(self,book_no,book_name): #book_no,book_name are instance variables\n",
        "    self.book_no=book_no\n",
        "    self.book_name=book_name\n",
        "  \n",
        "  def lib_name(self):\n",
        "    print(library.library_name)\n",
        "  \n",
        "  def add(self,a,b):                    #a,b are local variables  \n",
        "    print(a+b)\n",
        "  \n",
        "\n"
      ],
      "metadata": {
        "id": "hLPR4HWEMS-Z"
      },
      "execution_count": 15,
      "outputs": []
    },
    {
      "cell_type": "markdown",
      "source": [
        "**1.creating two different objects**"
      ],
      "metadata": {
        "id": "4vhRYruPPRbh"
      }
    },
    {
      "cell_type": "code",
      "source": [
        "object1 = library(1,'python')\n",
        "object2 = library(2,'machine learning')"
      ],
      "metadata": {
        "id": "RZOYPy51POqG"
      },
      "execution_count": 16,
      "outputs": []
    },
    {
      "cell_type": "markdown",
      "source": [
        "**2.calling static variables**"
      ],
      "metadata": {
        "id": "A4T-ekf2P4Y6"
      }
    },
    {
      "cell_type": "code",
      "source": [
        "print(object1.library_name)\n",
        "print(object2.library_name)"
      ],
      "metadata": {
        "colab": {
          "base_uri": "https://localhost:8080/"
        },
        "id": "LWcSiPQLP3dK",
        "outputId": "54f7cf5a-909f-4819-d32f-d5c9346461eb"
      },
      "execution_count": 17,
      "outputs": [
        {
          "output_type": "stream",
          "name": "stdout",
          "text": [
            "QUICK LEARN\n",
            "QUICK LEARN\n"
          ]
        }
      ]
    },
    {
      "cell_type": "markdown",
      "source": [
        "**3.calling instance variable**"
      ],
      "metadata": {
        "id": "WHCIcWF2Qpy7"
      }
    },
    {
      "cell_type": "code",
      "source": [
        "print(object1.book_name)\n",
        "print(object2.book_name)"
      ],
      "metadata": {
        "colab": {
          "base_uri": "https://localhost:8080/"
        },
        "id": "7zDYHdTiQ2kJ",
        "outputId": "21eaa450-5c56-4d55-ca42-11d0cbb77458"
      },
      "execution_count": 18,
      "outputs": [
        {
          "output_type": "stream",
          "name": "stdout",
          "text": [
            "python\n",
            "machine learning\n"
          ]
        }
      ]
    },
    {
      "cell_type": "markdown",
      "source": [
        "**4.call of static function inside a class method**"
      ],
      "metadata": {
        "id": "GnA7AW7LRVUp"
      }
    },
    {
      "cell_type": "code",
      "source": [
        "object1.lib_name()\n",
        "object2.lib_name()"
      ],
      "metadata": {
        "colab": {
          "base_uri": "https://localhost:8080/"
        },
        "id": "ZtwoKM8lRlPp",
        "outputId": "61146314-f804-40b2-d971-d1121f917f42"
      },
      "execution_count": 19,
      "outputs": [
        {
          "output_type": "stream",
          "name": "stdout",
          "text": [
            "QUICK LEARN\n",
            "QUICK LEARN\n"
          ]
        }
      ]
    }
  ]
}